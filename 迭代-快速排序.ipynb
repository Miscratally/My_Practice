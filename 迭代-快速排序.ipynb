{
 "cells": [
  {
   "cell_type": "code",
   "execution_count": 1,
   "metadata": {
    "collapsed": true
   },
   "outputs": [
    {
     "data": {
      "text/plain": "[20, 32, 33, 36, 41, 42, 47, 66, 78, 80]"
     },
     "execution_count": 1,
     "metadata": {},
     "output_type": "execute_result"
    }
   ],
   "source": [
    "\n",
    "def partition(li, left, right):\n",
    "    tmp = li[left] # 保存从最左侧取出进行快速排序的数\n",
    "    while right > left:\n",
    "        while right > left and li[right] >= tmp:\n",
    "            right -= 1 # 从右侧开始找到比tmp小的数放到左边的空位\n",
    "        li[left] = li[right]\n",
    "        while right > left and li[left] <= tmp:\n",
    "            left += 1 # 从右侧开始找到比tmp小的数放到左边的空位\n",
    "        li[right] = li[left]\n",
    "    li[left] = tmp # 当最后left和right相等时，找到了tmp应该存放的位置再放回去\n",
    "    return left\n",
    "\n",
    "def quick_sort(li, left, right):\n",
    "    \"\"\"\n",
    "    使用递归算法进行快速排序，将快速排序分为三步\n",
    "    :param li: 需要排序的列表\n",
    "    :param left: 需要排序列表左侧边缘\n",
    "    :param right: 需要排序列表右侧边缘\n",
    "    :return: 返回快速排序完成后的有序列表\n",
    "    \"\"\"\n",
    "    if left < right:\n",
    "        mid = partition(li, left, right) # 找到一次排序后要放的中间位置\n",
    "        quick_sort(li, left, mid-1) # 将范围缩小为左边部分再进行一次排序\n",
    "        quick_sort(li, mid+1, right) # 将范围缩小为右边部分再进行一次排序\n",
    "    return li\n",
    "\n",
    "li = [20, 32, 80, 42, 78, 33, 41, 36, 66, 47]\n",
    "\n",
    "quick_sort(li, 0, len(li)-1)"
   ]
  },
  {
   "cell_type": "code",
   "execution_count": null,
   "outputs": [],
   "source": [],
   "metadata": {
    "collapsed": false,
    "pycharm": {
     "name": "#%%\n"
    }
   }
  }
 ],
 "metadata": {
  "kernelspec": {
   "display_name": "Python 3",
   "language": "python",
   "name": "python3"
  },
  "language_info": {
   "codemirror_mode": {
    "name": "ipython",
    "version": 2
   },
   "file_extension": ".py",
   "mimetype": "text/x-python",
   "name": "python",
   "nbconvert_exporter": "python",
   "pygments_lexer": "ipython2",
   "version": "2.7.6"
  }
 },
 "nbformat": 4,
 "nbformat_minor": 0
}